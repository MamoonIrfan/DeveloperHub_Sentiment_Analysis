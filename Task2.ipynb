{
 "cells": [
  {
   "cell_type": "markdown",
   "id": "47d9cab3",
   "metadata": {},
   "source": [
    "Task 2: Sentiment Analysis\n",
    "--------------------------\n",
    "Description:\n",
    " Build a simple text sentiment analysis model using a small dataset like 1000 IMDB reviews.\n",
    "Steps:\n",
    "\n",
    " 1. Preprocessing:\n",
    "\n",
    "       -Lowercase the text.\n",
    "\n",
    "       -Remove stopwords and special characters.\n",
    "\n",
    " 2. Feature Engineering: Convert text data into numerical format using CountVectorizer.\n",
    "\n",
    " 3. Model Training: Train a simple Logistic Regression model to classify reviews as positive or negative.\n",
    "\n",
    " 4. Model Evaluation: Check accuracy only (optional: precision and recall).\n",
    "\n",
    "Outcome:\n",
    "A Python script to predict whether a review is positive or negative.\n"
   ]
  },
  {
   "cell_type": "markdown",
   "id": "b75c0c25",
   "metadata": {},
   "source": [
    "Steps 1: Preprocessing:\n",
    "-----------------------\n",
    "\n",
    "   1. Lowercase the text.\n",
    "\n",
    "   2. Remove stopwords and special characters."
   ]
  },
  {
   "cell_type": "code",
   "execution_count": null,
   "id": "972526a0",
   "metadata": {},
   "outputs": [
    {
     "name": "stderr",
     "output_type": "stream",
     "text": [
      "[nltk_data] Downloading package stopwords to C:\\Users\\Muhammad\n",
      "[nltk_data]     Mamoon\\AppData\\Roaming\\nltk_data...\n",
      "[nltk_data]   Package stopwords is already up-to-date!\n"
     ]
    },
    {
     "data": {
      "text/html": [
       "<div>\n",
       "<style scoped>\n",
       "    .dataframe tbody tr th:only-of-type {\n",
       "        vertical-align: middle;\n",
       "    }\n",
       "\n",
       "    .dataframe tbody tr th {\n",
       "        vertical-align: top;\n",
       "    }\n",
       "\n",
       "    .dataframe thead th {\n",
       "        text-align: right;\n",
       "    }\n",
       "</style>\n",
       "<table border=\"1\" class=\"dataframe\">\n",
       "  <thead>\n",
       "    <tr style=\"text-align: right;\">\n",
       "      <th></th>\n",
       "      <th>review</th>\n",
       "      <th>clean_review</th>\n",
       "      <th>sentiment</th>\n",
       "    </tr>\n",
       "  </thead>\n",
       "  <tbody>\n",
       "    <tr>\n",
       "      <th>0</th>\n",
       "      <td>One of the other reviewers has mentioned that ...</td>\n",
       "      <td>one reviewers mentioned watching oz episode ho...</td>\n",
       "      <td>positive</td>\n",
       "    </tr>\n",
       "    <tr>\n",
       "      <th>1</th>\n",
       "      <td>A wonderful little production. &lt;br /&gt;&lt;br /&gt;The...</td>\n",
       "      <td>wonderful little production filming technique ...</td>\n",
       "      <td>positive</td>\n",
       "    </tr>\n",
       "    <tr>\n",
       "      <th>2</th>\n",
       "      <td>I thought this was a wonderful way to spend ti...</td>\n",
       "      <td>thought wonderful way spend time hot summer we...</td>\n",
       "      <td>positive</td>\n",
       "    </tr>\n",
       "    <tr>\n",
       "      <th>3</th>\n",
       "      <td>Basically there's a family where a little boy ...</td>\n",
       "      <td>basically family little boy jake thinks zombie...</td>\n",
       "      <td>negative</td>\n",
       "    </tr>\n",
       "    <tr>\n",
       "      <th>4</th>\n",
       "      <td>Petter Mattei's \"Love in the Time of Money\" is...</td>\n",
       "      <td>petter mattei love time money visually stunnin...</td>\n",
       "      <td>positive</td>\n",
       "    </tr>\n",
       "  </tbody>\n",
       "</table>\n",
       "</div>"
      ],
      "text/plain": [
       "                                              review  \\\n",
       "0  One of the other reviewers has mentioned that ...   \n",
       "1  A wonderful little production. <br /><br />The...   \n",
       "2  I thought this was a wonderful way to spend ti...   \n",
       "3  Basically there's a family where a little boy ...   \n",
       "4  Petter Mattei's \"Love in the Time of Money\" is...   \n",
       "\n",
       "                                        clean_review sentiment  \n",
       "0  one reviewers mentioned watching oz episode ho...  positive  \n",
       "1  wonderful little production filming technique ...  positive  \n",
       "2  thought wonderful way spend time hot summer we...  positive  \n",
       "3  basically family little boy jake thinks zombie...  negative  \n",
       "4  petter mattei love time money visually stunnin...  positive  "
      ]
     },
     "execution_count": 94,
     "metadata": {},
     "output_type": "execute_result"
    }
   ],
   "source": [
    "import pandas as pd\n",
    "import re\n",
    "import nltk\n",
    "from nltk.corpus import stopwords\n",
    "\n",
    "# Load dataset\n",
    "df = pd.read_csv(\"IMDB Dataset.csv\")\n",
    "\n",
    "# Download stopwords once\n",
    "nltk.download(\"stopwords\")\n",
    "stop_words = set(stopwords.words(\"english\"))\n",
    "\n",
    "def preprocess_text(text):\n",
    "    # 1. Lowercase\n",
    "    text = text.lower()\n",
    "    \n",
    "    # 2. Remove HTML tags\n",
    "    text = re.sub(r'<.*?>', ' ', text)\n",
    "    \n",
    "    # 3. Remove special characters and numbers\n",
    "    text = re.sub(r'[^a-z\\s]', ' ', text)\n",
    "    \n",
    "    # 4. Remove stopwords\n",
    "    words = text.split()\n",
    "    words = [word for word in words if word not in stop_words]\n",
    "    \n",
    "    # Join back into string\n",
    "    return \" \".join(words)\n",
    "\n",
    "# Apply preprocessing to dataset\n",
    "df[\"clean_review\"] = df[\"review\"].apply(preprocess_text)\n",
    "\n",
    "# Show sample(First 5 rows)\n",
    "df[[\"review\", \"clean_review\", \"sentiment\"]].head()\n"
   ]
  },
  {
   "cell_type": "markdown",
   "id": "c38ff9cd",
   "metadata": {},
   "source": [
    "Step 2. Feature Engineering: Convert text data into numerical format using CountVectorizer.\n",
    "------------------------------------------------------------------------------------------"
   ]
  },
  {
   "cell_type": "code",
   "execution_count": null,
   "id": "a6fbb20b",
   "metadata": {},
   "outputs": [
    {
     "name": "stdout",
     "output_type": "stream",
     "text": [
      "Shape of X (features): (1003, 5000)\n",
      "Unique labels: ['positive' 'negative']\n"
     ]
    }
   ],
   "source": [
    "from sklearn.feature_extraction.text import CountVectorizer\n",
    "from sklearn.feature_extraction.text import TfidfVectorizer\n",
    "\n",
    "# Initialize vectorizer\n",
    "vectorizer = CountVectorizer(max_features=5000)  # top 5000 words only\n",
    "\n",
    "# Alternatively, we can use TfidfVectorizer\n",
    "vectorizer = TfidfVectorizer(max_features=5000)  # top 5000 words only\n",
    "# Fit and transform clean reviews\n",
    "X = vectorizer.fit_transform(df[\"clean_review\"])\n",
    "\n",
    "# Target variable\n",
    "y = df[\"sentiment\"]\n",
    "\n",
    "print(\"Shape of X (features):\", X.shape)\n",
    "print(\"Unique labels:\", y.unique())\n"
   ]
  },
  {
   "cell_type": "markdown",
   "id": "9faccf10",
   "metadata": {},
   "source": [
    "Step 3. Model Training: Train a simple Logistic Regression model to classify reviews as positive or negative.\n",
    "---------------------------------------------------------------------------------------"
   ]
  },
  {
   "cell_type": "code",
   "execution_count": null,
   "id": "d6c84100",
   "metadata": {},
   "outputs": [
    {
     "name": "stdout",
     "output_type": "stream",
     "text": [
      "Accuracy of Sentiment Analysis Model: 0.8258706467661692\n"
     ]
    }
   ],
   "source": [
    "from sklearn.model_selection import train_test_split\n",
    "from sklearn.linear_model import LogisticRegression\n",
    "from sklearn.metrics import accuracy_score\n",
    "\n",
    "# Split data (80% train, 20% test)\n",
    "X_train, X_test, y_train, y_test = train_test_split(X, y, test_size=0.2, random_state=42)\n",
    "\n",
    "# Initialize Logistic Regression model\n",
    "model = LogisticRegression(max_iter=1000)\n",
    "\n",
    "# Train the model\n",
    "model.fit(X_train, y_train)\n",
    "\n",
    "# Predict on test set\n",
    "y_pred = model.predict(X_test)\n",
    "\n",
    "# Evaluate accuracy\n",
    "accuracy = accuracy_score(y_test, y_pred)\n",
    "print(\"Accuracy of Sentiment Analysis Model:\", accuracy)\n"
   ]
  },
  {
   "cell_type": "markdown",
   "id": "1cdc7cbf",
   "metadata": {},
   "source": [
    "Step 4. Model Evaluation: Check accuracy only (optional: precision and recall).\n",
    "------------------------------------------------------------------------------"
   ]
  },
  {
   "cell_type": "code",
   "execution_count": null,
   "id": "11143b25",
   "metadata": {},
   "outputs": [
    {
     "name": "stdout",
     "output_type": "stream",
     "text": [
      "positive\n",
      "negative\n",
      "negative\n"
     ]
    }
   ],
   "source": [
    "def predict_sentiment(review_text):\n",
    "    # Step 1: Preprocess the text\n",
    "    clean_text = preprocess_text(review_text)\n",
    "    \n",
    "    # Step 2: Convert text to vector using the same vectorizer\n",
    "    vector = vectorizer.transform([clean_text])\n",
    "    \n",
    "    # Step 3: Predict sentiment using trained model\n",
    "    prediction = model.predict(vector)[0]\n",
    "    \n",
    "    return prediction\n",
    "\n",
    "# 🔹 Example tests\n",
    "print(predict_sentiment(\"This movie was absolutely fantastic!\"))  # Expected: positive\n",
    "print(predict_sentiment(\"The film was boring and a waste of time.\"))  # Expected: negative\n",
    "print(predict_sentiment(\"This movie was not good.\"))  # Expected: negative"
   ]
  }
 ],
 "metadata": {
  "kernelspec": {
   "display_name": "base",
   "language": "python",
   "name": "python3"
  },
  "language_info": {
   "codemirror_mode": {
    "name": "ipython",
    "version": 3
   },
   "file_extension": ".py",
   "mimetype": "text/x-python",
   "name": "python",
   "nbconvert_exporter": "python",
   "pygments_lexer": "ipython3",
   "version": "3.13.5"
  }
 },
 "nbformat": 4,
 "nbformat_minor": 5
}
